{
 "cells": [
  {
   "cell_type": "code",
   "execution_count": 1,
   "id": "fef08260",
   "metadata": {},
   "outputs": [
    {
     "data": {
      "text/html": [
       "<div>\n",
       "<style scoped>\n",
       "    .dataframe tbody tr th:only-of-type {\n",
       "        vertical-align: middle;\n",
       "    }\n",
       "\n",
       "    .dataframe tbody tr th {\n",
       "        vertical-align: top;\n",
       "    }\n",
       "\n",
       "    .dataframe thead th {\n",
       "        text-align: right;\n",
       "    }\n",
       "</style>\n",
       "<table border=\"1\" class=\"dataframe\">\n",
       "  <thead>\n",
       "    <tr style=\"text-align: right;\">\n",
       "      <th></th>\n",
       "      <th>Gender</th>\n",
       "      <th>Age</th>\n",
       "      <th>Education Level</th>\n",
       "      <th>Institution Type</th>\n",
       "      <th>IT Student</th>\n",
       "      <th>Location</th>\n",
       "      <th>Load-shedding</th>\n",
       "      <th>Financial Condition</th>\n",
       "      <th>Internet Type</th>\n",
       "      <th>Network Type</th>\n",
       "      <th>Class Duration</th>\n",
       "      <th>Self Lms</th>\n",
       "      <th>Device</th>\n",
       "      <th>Adaptivity Level</th>\n",
       "    </tr>\n",
       "  </thead>\n",
       "  <tbody>\n",
       "    <tr>\n",
       "      <th>0</th>\n",
       "      <td>Boy</td>\n",
       "      <td>21-25</td>\n",
       "      <td>University</td>\n",
       "      <td>Non Government</td>\n",
       "      <td>No</td>\n",
       "      <td>Yes</td>\n",
       "      <td>Low</td>\n",
       "      <td>Mid</td>\n",
       "      <td>Wifi</td>\n",
       "      <td>4G</td>\n",
       "      <td>3-6</td>\n",
       "      <td>No</td>\n",
       "      <td>Tab</td>\n",
       "      <td>Moderate</td>\n",
       "    </tr>\n",
       "    <tr>\n",
       "      <th>1</th>\n",
       "      <td>Girl</td>\n",
       "      <td>21-25</td>\n",
       "      <td>University</td>\n",
       "      <td>Non Government</td>\n",
       "      <td>No</td>\n",
       "      <td>Yes</td>\n",
       "      <td>High</td>\n",
       "      <td>Mid</td>\n",
       "      <td>Mobile Data</td>\n",
       "      <td>4G</td>\n",
       "      <td>1-3</td>\n",
       "      <td>Yes</td>\n",
       "      <td>Mobile</td>\n",
       "      <td>Moderate</td>\n",
       "    </tr>\n",
       "    <tr>\n",
       "      <th>2</th>\n",
       "      <td>Girl</td>\n",
       "      <td>16-20</td>\n",
       "      <td>College</td>\n",
       "      <td>Government</td>\n",
       "      <td>No</td>\n",
       "      <td>Yes</td>\n",
       "      <td>Low</td>\n",
       "      <td>Mid</td>\n",
       "      <td>Wifi</td>\n",
       "      <td>4G</td>\n",
       "      <td>1-3</td>\n",
       "      <td>No</td>\n",
       "      <td>Mobile</td>\n",
       "      <td>Moderate</td>\n",
       "    </tr>\n",
       "    <tr>\n",
       "      <th>3</th>\n",
       "      <td>Girl</td>\n",
       "      <td>11-15</td>\n",
       "      <td>School</td>\n",
       "      <td>Non Government</td>\n",
       "      <td>No</td>\n",
       "      <td>Yes</td>\n",
       "      <td>Low</td>\n",
       "      <td>Mid</td>\n",
       "      <td>Mobile Data</td>\n",
       "      <td>4G</td>\n",
       "      <td>1-3</td>\n",
       "      <td>No</td>\n",
       "      <td>Mobile</td>\n",
       "      <td>Moderate</td>\n",
       "    </tr>\n",
       "    <tr>\n",
       "      <th>4</th>\n",
       "      <td>Girl</td>\n",
       "      <td>16-20</td>\n",
       "      <td>School</td>\n",
       "      <td>Non Government</td>\n",
       "      <td>No</td>\n",
       "      <td>Yes</td>\n",
       "      <td>Low</td>\n",
       "      <td>Poor</td>\n",
       "      <td>Mobile Data</td>\n",
       "      <td>3G</td>\n",
       "      <td>0</td>\n",
       "      <td>No</td>\n",
       "      <td>Mobile</td>\n",
       "      <td>Low</td>\n",
       "    </tr>\n",
       "    <tr>\n",
       "      <th>...</th>\n",
       "      <td>...</td>\n",
       "      <td>...</td>\n",
       "      <td>...</td>\n",
       "      <td>...</td>\n",
       "      <td>...</td>\n",
       "      <td>...</td>\n",
       "      <td>...</td>\n",
       "      <td>...</td>\n",
       "      <td>...</td>\n",
       "      <td>...</td>\n",
       "      <td>...</td>\n",
       "      <td>...</td>\n",
       "      <td>...</td>\n",
       "      <td>...</td>\n",
       "    </tr>\n",
       "    <tr>\n",
       "      <th>1200</th>\n",
       "      <td>Girl</td>\n",
       "      <td>16-20</td>\n",
       "      <td>College</td>\n",
       "      <td>Non Government</td>\n",
       "      <td>No</td>\n",
       "      <td>Yes</td>\n",
       "      <td>Low</td>\n",
       "      <td>Mid</td>\n",
       "      <td>Wifi</td>\n",
       "      <td>4G</td>\n",
       "      <td>1-3</td>\n",
       "      <td>No</td>\n",
       "      <td>Mobile</td>\n",
       "      <td>Low</td>\n",
       "    </tr>\n",
       "    <tr>\n",
       "      <th>1201</th>\n",
       "      <td>Girl</td>\n",
       "      <td>16-20</td>\n",
       "      <td>College</td>\n",
       "      <td>Non Government</td>\n",
       "      <td>No</td>\n",
       "      <td>No</td>\n",
       "      <td>High</td>\n",
       "      <td>Mid</td>\n",
       "      <td>Wifi</td>\n",
       "      <td>4G</td>\n",
       "      <td>3-6</td>\n",
       "      <td>No</td>\n",
       "      <td>Mobile</td>\n",
       "      <td>Moderate</td>\n",
       "    </tr>\n",
       "    <tr>\n",
       "      <th>1202</th>\n",
       "      <td>Boy</td>\n",
       "      <td>11-15</td>\n",
       "      <td>School</td>\n",
       "      <td>Non Government</td>\n",
       "      <td>No</td>\n",
       "      <td>Yes</td>\n",
       "      <td>Low</td>\n",
       "      <td>Mid</td>\n",
       "      <td>Mobile Data</td>\n",
       "      <td>3G</td>\n",
       "      <td>1-3</td>\n",
       "      <td>No</td>\n",
       "      <td>Mobile</td>\n",
       "      <td>Moderate</td>\n",
       "    </tr>\n",
       "    <tr>\n",
       "      <th>1203</th>\n",
       "      <td>Girl</td>\n",
       "      <td>16-20</td>\n",
       "      <td>College</td>\n",
       "      <td>Non Government</td>\n",
       "      <td>No</td>\n",
       "      <td>No</td>\n",
       "      <td>Low</td>\n",
       "      <td>Mid</td>\n",
       "      <td>Wifi</td>\n",
       "      <td>4G</td>\n",
       "      <td>1-3</td>\n",
       "      <td>No</td>\n",
       "      <td>Mobile</td>\n",
       "      <td>Low</td>\n",
       "    </tr>\n",
       "    <tr>\n",
       "      <th>1204</th>\n",
       "      <td>Girl</td>\n",
       "      <td>11-15</td>\n",
       "      <td>School</td>\n",
       "      <td>Non Government</td>\n",
       "      <td>No</td>\n",
       "      <td>Yes</td>\n",
       "      <td>Low</td>\n",
       "      <td>Poor</td>\n",
       "      <td>Mobile Data</td>\n",
       "      <td>3G</td>\n",
       "      <td>1-3</td>\n",
       "      <td>No</td>\n",
       "      <td>Mobile</td>\n",
       "      <td>Moderate</td>\n",
       "    </tr>\n",
       "  </tbody>\n",
       "</table>\n",
       "<p>1205 rows × 14 columns</p>\n",
       "</div>"
      ],
      "text/plain": [
       "     Gender    Age Education Level Institution Type IT Student Location  \\\n",
       "0       Boy  21-25      University   Non Government         No      Yes   \n",
       "1      Girl  21-25      University   Non Government         No      Yes   \n",
       "2      Girl  16-20         College       Government         No      Yes   \n",
       "3      Girl  11-15          School   Non Government         No      Yes   \n",
       "4      Girl  16-20          School   Non Government         No      Yes   \n",
       "...     ...    ...             ...              ...        ...      ...   \n",
       "1200   Girl  16-20         College   Non Government         No      Yes   \n",
       "1201   Girl  16-20         College   Non Government         No       No   \n",
       "1202    Boy  11-15          School   Non Government         No      Yes   \n",
       "1203   Girl  16-20         College   Non Government         No       No   \n",
       "1204   Girl  11-15          School   Non Government         No      Yes   \n",
       "\n",
       "     Load-shedding Financial Condition Internet Type Network Type  \\\n",
       "0              Low                 Mid          Wifi           4G   \n",
       "1             High                 Mid   Mobile Data           4G   \n",
       "2              Low                 Mid          Wifi           4G   \n",
       "3              Low                 Mid   Mobile Data           4G   \n",
       "4              Low                Poor   Mobile Data           3G   \n",
       "...            ...                 ...           ...          ...   \n",
       "1200           Low                 Mid          Wifi           4G   \n",
       "1201          High                 Mid          Wifi           4G   \n",
       "1202           Low                 Mid   Mobile Data           3G   \n",
       "1203           Low                 Mid          Wifi           4G   \n",
       "1204           Low                Poor   Mobile Data           3G   \n",
       "\n",
       "     Class Duration Self Lms  Device Adaptivity Level  \n",
       "0               3-6       No     Tab         Moderate  \n",
       "1               1-3      Yes  Mobile         Moderate  \n",
       "2               1-3       No  Mobile         Moderate  \n",
       "3               1-3       No  Mobile         Moderate  \n",
       "4                 0       No  Mobile              Low  \n",
       "...             ...      ...     ...              ...  \n",
       "1200            1-3       No  Mobile              Low  \n",
       "1201            3-6       No  Mobile         Moderate  \n",
       "1202            1-3       No  Mobile         Moderate  \n",
       "1203            1-3       No  Mobile              Low  \n",
       "1204            1-3       No  Mobile         Moderate  \n",
       "\n",
       "[1205 rows x 14 columns]"
      ]
     },
     "execution_count": 1,
     "metadata": {},
     "output_type": "execute_result"
    }
   ],
   "source": [
    "# Pandas est utilisé pour la manipulation des données\n",
    "import pandas as pd\n",
    "# Lire les données et afficher les lignes\n",
    "data=pd.read_csv('students_adaptability.csv')\n",
    "data"
   ]
  },
  {
   "cell_type": "code",
   "execution_count": 2,
   "id": "363d3671",
   "metadata": {},
   "outputs": [
    {
     "name": "stdout",
     "output_type": "stream",
     "text": [
      "<class 'pandas.core.frame.DataFrame'>\n",
      "RangeIndex: 1205 entries, 0 to 1204\n",
      "Data columns (total 14 columns):\n",
      " #   Column               Non-Null Count  Dtype \n",
      "---  ------               --------------  ----- \n",
      " 0   Gender               1205 non-null   object\n",
      " 1   Age                  1205 non-null   object\n",
      " 2   Education Level      1205 non-null   object\n",
      " 3   Institution Type     1205 non-null   object\n",
      " 4   IT Student           1205 non-null   object\n",
      " 5   Location             1205 non-null   object\n",
      " 6   Load-shedding        1205 non-null   object\n",
      " 7   Financial Condition  1205 non-null   object\n",
      " 8   Internet Type        1205 non-null   object\n",
      " 9   Network Type         1205 non-null   object\n",
      " 10  Class Duration       1205 non-null   object\n",
      " 11  Self Lms             1205 non-null   object\n",
      " 12  Device               1205 non-null   object\n",
      " 13  Adaptivity Level     1205 non-null   object\n",
      "dtypes: object(14)\n",
      "memory usage: 131.9+ KB\n"
     ]
    }
   ],
   "source": [
    "data.info()"
   ]
  },
  {
   "cell_type": "markdown",
   "id": "81a3da0f",
   "metadata": {},
   "source": [
    "# Traitement des données"
   ]
  },
  {
   "cell_type": "code",
   "execution_count": 3,
   "id": "acc41204",
   "metadata": {},
   "outputs": [],
   "source": [
    "# Ici on juste ronommer les colonnes dont les noms ont des espaces\n",
    "data['Education_Level']=data['Education Level']\n",
    "data['Institution_Type']=data['Institution Type']\n",
    "data['IT_Student']=data['IT Student']\n",
    "data['Load_shedding']=data['Load-shedding']\n",
    "data['Financial_Condition']=data['Financial Condition']\n",
    "data['Internet_Type']=data['Internet Type']\n",
    "data['Network_Type']=data['Network Type']\n",
    "data['Class_Duration']=data['Class Duration']\n",
    "data['Self_Lms']=data['Self Lms']\n",
    "data['Adaptivity_Level']=data['Adaptivity Level']"
   ]
  },
  {
   "cell_type": "code",
   "execution_count": 4,
   "id": "5502177d",
   "metadata": {},
   "outputs": [],
   "source": [
    "# constitution d'un nouveau dataset \n",
    "dataset=data[['Gender','Age','Education_Level','Institution_Type','IT_Student','Location','Load_shedding','Financial_Condition','Internet_Type','Network_Type','Class_Duration','Self_Lms','Device','Adaptivity_Level']]"
   ]
  },
  {
   "cell_type": "code",
   "execution_count": 5,
   "id": "6bd1eb3b",
   "metadata": {},
   "outputs": [
    {
     "data": {
      "text/html": [
       "<div>\n",
       "<style scoped>\n",
       "    .dataframe tbody tr th:only-of-type {\n",
       "        vertical-align: middle;\n",
       "    }\n",
       "\n",
       "    .dataframe tbody tr th {\n",
       "        vertical-align: top;\n",
       "    }\n",
       "\n",
       "    .dataframe thead th {\n",
       "        text-align: right;\n",
       "    }\n",
       "</style>\n",
       "<table border=\"1\" class=\"dataframe\">\n",
       "  <thead>\n",
       "    <tr style=\"text-align: right;\">\n",
       "      <th></th>\n",
       "      <th>Gender</th>\n",
       "      <th>Age</th>\n",
       "      <th>Education_Level</th>\n",
       "      <th>Institution_Type</th>\n",
       "      <th>IT_Student</th>\n",
       "      <th>Location</th>\n",
       "      <th>Load_shedding</th>\n",
       "      <th>Financial_Condition</th>\n",
       "      <th>Internet_Type</th>\n",
       "      <th>Network_Type</th>\n",
       "      <th>Class_Duration</th>\n",
       "      <th>Self_Lms</th>\n",
       "      <th>Device</th>\n",
       "      <th>Adaptivity_Level</th>\n",
       "    </tr>\n",
       "  </thead>\n",
       "  <tbody>\n",
       "    <tr>\n",
       "      <th>0</th>\n",
       "      <td>Boy</td>\n",
       "      <td>21-25</td>\n",
       "      <td>University</td>\n",
       "      <td>Non Government</td>\n",
       "      <td>No</td>\n",
       "      <td>Yes</td>\n",
       "      <td>Low</td>\n",
       "      <td>Mid</td>\n",
       "      <td>Wifi</td>\n",
       "      <td>4G</td>\n",
       "      <td>3-6</td>\n",
       "      <td>No</td>\n",
       "      <td>Tab</td>\n",
       "      <td>Moderate</td>\n",
       "    </tr>\n",
       "    <tr>\n",
       "      <th>1</th>\n",
       "      <td>Girl</td>\n",
       "      <td>21-25</td>\n",
       "      <td>University</td>\n",
       "      <td>Non Government</td>\n",
       "      <td>No</td>\n",
       "      <td>Yes</td>\n",
       "      <td>High</td>\n",
       "      <td>Mid</td>\n",
       "      <td>Mobile Data</td>\n",
       "      <td>4G</td>\n",
       "      <td>1-3</td>\n",
       "      <td>Yes</td>\n",
       "      <td>Mobile</td>\n",
       "      <td>Moderate</td>\n",
       "    </tr>\n",
       "    <tr>\n",
       "      <th>2</th>\n",
       "      <td>Girl</td>\n",
       "      <td>16-20</td>\n",
       "      <td>College</td>\n",
       "      <td>Government</td>\n",
       "      <td>No</td>\n",
       "      <td>Yes</td>\n",
       "      <td>Low</td>\n",
       "      <td>Mid</td>\n",
       "      <td>Wifi</td>\n",
       "      <td>4G</td>\n",
       "      <td>1-3</td>\n",
       "      <td>No</td>\n",
       "      <td>Mobile</td>\n",
       "      <td>Moderate</td>\n",
       "    </tr>\n",
       "    <tr>\n",
       "      <th>3</th>\n",
       "      <td>Girl</td>\n",
       "      <td>11-15</td>\n",
       "      <td>School</td>\n",
       "      <td>Non Government</td>\n",
       "      <td>No</td>\n",
       "      <td>Yes</td>\n",
       "      <td>Low</td>\n",
       "      <td>Mid</td>\n",
       "      <td>Mobile Data</td>\n",
       "      <td>4G</td>\n",
       "      <td>1-3</td>\n",
       "      <td>No</td>\n",
       "      <td>Mobile</td>\n",
       "      <td>Moderate</td>\n",
       "    </tr>\n",
       "    <tr>\n",
       "      <th>4</th>\n",
       "      <td>Girl</td>\n",
       "      <td>16-20</td>\n",
       "      <td>School</td>\n",
       "      <td>Non Government</td>\n",
       "      <td>No</td>\n",
       "      <td>Yes</td>\n",
       "      <td>Low</td>\n",
       "      <td>Poor</td>\n",
       "      <td>Mobile Data</td>\n",
       "      <td>3G</td>\n",
       "      <td>0</td>\n",
       "      <td>No</td>\n",
       "      <td>Mobile</td>\n",
       "      <td>Low</td>\n",
       "    </tr>\n",
       "    <tr>\n",
       "      <th>...</th>\n",
       "      <td>...</td>\n",
       "      <td>...</td>\n",
       "      <td>...</td>\n",
       "      <td>...</td>\n",
       "      <td>...</td>\n",
       "      <td>...</td>\n",
       "      <td>...</td>\n",
       "      <td>...</td>\n",
       "      <td>...</td>\n",
       "      <td>...</td>\n",
       "      <td>...</td>\n",
       "      <td>...</td>\n",
       "      <td>...</td>\n",
       "      <td>...</td>\n",
       "    </tr>\n",
       "    <tr>\n",
       "      <th>1200</th>\n",
       "      <td>Girl</td>\n",
       "      <td>16-20</td>\n",
       "      <td>College</td>\n",
       "      <td>Non Government</td>\n",
       "      <td>No</td>\n",
       "      <td>Yes</td>\n",
       "      <td>Low</td>\n",
       "      <td>Mid</td>\n",
       "      <td>Wifi</td>\n",
       "      <td>4G</td>\n",
       "      <td>1-3</td>\n",
       "      <td>No</td>\n",
       "      <td>Mobile</td>\n",
       "      <td>Low</td>\n",
       "    </tr>\n",
       "    <tr>\n",
       "      <th>1201</th>\n",
       "      <td>Girl</td>\n",
       "      <td>16-20</td>\n",
       "      <td>College</td>\n",
       "      <td>Non Government</td>\n",
       "      <td>No</td>\n",
       "      <td>No</td>\n",
       "      <td>High</td>\n",
       "      <td>Mid</td>\n",
       "      <td>Wifi</td>\n",
       "      <td>4G</td>\n",
       "      <td>3-6</td>\n",
       "      <td>No</td>\n",
       "      <td>Mobile</td>\n",
       "      <td>Moderate</td>\n",
       "    </tr>\n",
       "    <tr>\n",
       "      <th>1202</th>\n",
       "      <td>Boy</td>\n",
       "      <td>11-15</td>\n",
       "      <td>School</td>\n",
       "      <td>Non Government</td>\n",
       "      <td>No</td>\n",
       "      <td>Yes</td>\n",
       "      <td>Low</td>\n",
       "      <td>Mid</td>\n",
       "      <td>Mobile Data</td>\n",
       "      <td>3G</td>\n",
       "      <td>1-3</td>\n",
       "      <td>No</td>\n",
       "      <td>Mobile</td>\n",
       "      <td>Moderate</td>\n",
       "    </tr>\n",
       "    <tr>\n",
       "      <th>1203</th>\n",
       "      <td>Girl</td>\n",
       "      <td>16-20</td>\n",
       "      <td>College</td>\n",
       "      <td>Non Government</td>\n",
       "      <td>No</td>\n",
       "      <td>No</td>\n",
       "      <td>Low</td>\n",
       "      <td>Mid</td>\n",
       "      <td>Wifi</td>\n",
       "      <td>4G</td>\n",
       "      <td>1-3</td>\n",
       "      <td>No</td>\n",
       "      <td>Mobile</td>\n",
       "      <td>Low</td>\n",
       "    </tr>\n",
       "    <tr>\n",
       "      <th>1204</th>\n",
       "      <td>Girl</td>\n",
       "      <td>11-15</td>\n",
       "      <td>School</td>\n",
       "      <td>Non Government</td>\n",
       "      <td>No</td>\n",
       "      <td>Yes</td>\n",
       "      <td>Low</td>\n",
       "      <td>Poor</td>\n",
       "      <td>Mobile Data</td>\n",
       "      <td>3G</td>\n",
       "      <td>1-3</td>\n",
       "      <td>No</td>\n",
       "      <td>Mobile</td>\n",
       "      <td>Moderate</td>\n",
       "    </tr>\n",
       "  </tbody>\n",
       "</table>\n",
       "<p>1205 rows × 14 columns</p>\n",
       "</div>"
      ],
      "text/plain": [
       "     Gender    Age Education_Level Institution_Type IT_Student Location  \\\n",
       "0       Boy  21-25      University   Non Government         No      Yes   \n",
       "1      Girl  21-25      University   Non Government         No      Yes   \n",
       "2      Girl  16-20         College       Government         No      Yes   \n",
       "3      Girl  11-15          School   Non Government         No      Yes   \n",
       "4      Girl  16-20          School   Non Government         No      Yes   \n",
       "...     ...    ...             ...              ...        ...      ...   \n",
       "1200   Girl  16-20         College   Non Government         No      Yes   \n",
       "1201   Girl  16-20         College   Non Government         No       No   \n",
       "1202    Boy  11-15          School   Non Government         No      Yes   \n",
       "1203   Girl  16-20         College   Non Government         No       No   \n",
       "1204   Girl  11-15          School   Non Government         No      Yes   \n",
       "\n",
       "     Load_shedding Financial_Condition Internet_Type Network_Type  \\\n",
       "0              Low                 Mid          Wifi           4G   \n",
       "1             High                 Mid   Mobile Data           4G   \n",
       "2              Low                 Mid          Wifi           4G   \n",
       "3              Low                 Mid   Mobile Data           4G   \n",
       "4              Low                Poor   Mobile Data           3G   \n",
       "...            ...                 ...           ...          ...   \n",
       "1200           Low                 Mid          Wifi           4G   \n",
       "1201          High                 Mid          Wifi           4G   \n",
       "1202           Low                 Mid   Mobile Data           3G   \n",
       "1203           Low                 Mid          Wifi           4G   \n",
       "1204           Low                Poor   Mobile Data           3G   \n",
       "\n",
       "     Class_Duration Self_Lms  Device Adaptivity_Level  \n",
       "0               3-6       No     Tab         Moderate  \n",
       "1               1-3      Yes  Mobile         Moderate  \n",
       "2               1-3       No  Mobile         Moderate  \n",
       "3               1-3       No  Mobile         Moderate  \n",
       "4                 0       No  Mobile              Low  \n",
       "...             ...      ...     ...              ...  \n",
       "1200            1-3       No  Mobile              Low  \n",
       "1201            3-6       No  Mobile         Moderate  \n",
       "1202            1-3       No  Mobile         Moderate  \n",
       "1203            1-3       No  Mobile              Low  \n",
       "1204            1-3       No  Mobile         Moderate  \n",
       "\n",
       "[1205 rows x 14 columns]"
      ]
     },
     "execution_count": 5,
     "metadata": {},
     "output_type": "execute_result"
    }
   ],
   "source": [
    "dataset"
   ]
  },
  {
   "cell_type": "code",
   "execution_count": 6,
   "id": "b548e605",
   "metadata": {},
   "outputs": [
    {
     "name": "stdout",
     "output_type": "stream",
     "text": [
      "<class 'pandas.core.frame.DataFrame'>\n",
      "RangeIndex: 1205 entries, 0 to 1204\n",
      "Data columns (total 14 columns):\n",
      " #   Column               Non-Null Count  Dtype \n",
      "---  ------               --------------  ----- \n",
      " 0   Gender               1205 non-null   object\n",
      " 1   Age                  1205 non-null   object\n",
      " 2   Education_Level      1205 non-null   object\n",
      " 3   Institution_Type     1205 non-null   object\n",
      " 4   IT_Student           1205 non-null   object\n",
      " 5   Location             1205 non-null   object\n",
      " 6   Load_shedding        1205 non-null   object\n",
      " 7   Financial_Condition  1205 non-null   object\n",
      " 8   Internet_Type        1205 non-null   object\n",
      " 9   Network_Type         1205 non-null   object\n",
      " 10  Class_Duration       1205 non-null   object\n",
      " 11  Self_Lms             1205 non-null   object\n",
      " 12  Device               1205 non-null   object\n",
      " 13  Adaptivity_Level     1205 non-null   object\n",
      "dtypes: object(14)\n",
      "memory usage: 131.9+ KB\n"
     ]
    }
   ],
   "source": [
    "# verifier les types des colonnes de notre dataset\n",
    "dataset.info()"
   ]
  },
  {
   "cell_type": "code",
   "execution_count": 7,
   "id": "165e4142",
   "metadata": {},
   "outputs": [
    {
     "data": {
      "text/plain": [
       "array(['Boy', 'Girl'], dtype=object)"
      ]
     },
     "execution_count": 7,
     "metadata": {},
     "output_type": "execute_result"
    }
   ],
   "source": [
    "# Permet de verifier les élements uniques ou qui se repetent de la colonne Gender \n",
    "dataset.Gender.unique()"
   ]
  },
  {
   "cell_type": "code",
   "execution_count": 8,
   "id": "f17fd7f8",
   "metadata": {},
   "outputs": [
    {
     "name": "stderr",
     "output_type": "stream",
     "text": [
      "C:\\Users\\CHRISTELLE_MULONDI\\AppData\\Local\\Temp\\ipykernel_41544\\117608791.py:2: SettingWithCopyWarning: \n",
      "A value is trying to be set on a copy of a slice from a DataFrame.\n",
      "Try using .loc[row_indexer,col_indexer] = value instead\n",
      "\n",
      "See the caveats in the documentation: https://pandas.pydata.org/pandas-docs/stable/user_guide/indexing.html#returning-a-view-versus-a-copy\n",
      "  dataset['Gender']=dataset['Gender'].map({'Boy':1,'Girl':0 })# map permet de convertir les données\n"
     ]
    }
   ],
   "source": [
    "# permet d'encoder les élements uniques de la colonne Gender avec la fonction map\n",
    "dataset['Gender']=dataset['Gender'].map({'Boy':1,'Girl':0 })# map permet de convertir les données"
   ]
  },
  {
   "cell_type": "code",
   "execution_count": 9,
   "id": "db001d6b",
   "metadata": {},
   "outputs": [
    {
     "data": {
      "text/plain": [
       "array(['21-25', '16-20', '11-15', '26-30', '6-10', '1-5'], dtype=object)"
      ]
     },
     "execution_count": 9,
     "metadata": {},
     "output_type": "execute_result"
    }
   ],
   "source": [
    "# Permet de verifier les élements uniques ou qui se repetent de la colonne Age \n",
    "dataset.Age.unique()"
   ]
  },
  {
   "cell_type": "code",
   "execution_count": 10,
   "id": "dccc41a1",
   "metadata": {},
   "outputs": [
    {
     "name": "stderr",
     "output_type": "stream",
     "text": [
      "C:\\Users\\CHRISTELLE_MULONDI\\AppData\\Local\\Temp\\ipykernel_41544\\3513639690.py:2: SettingWithCopyWarning: \n",
      "A value is trying to be set on a copy of a slice from a DataFrame.\n",
      "Try using .loc[row_indexer,col_indexer] = value instead\n",
      "\n",
      "See the caveats in the documentation: https://pandas.pydata.org/pandas-docs/stable/user_guide/indexing.html#returning-a-view-versus-a-copy\n",
      "  dataset['Age']=dataset['Age'].map({'21-25':1, '16-20':2, '11-15':3, '26-30':4, '6-10':5, '1-5':6 })\n"
     ]
    }
   ],
   "source": [
    "# permet d'encoder les élements uniques de la colonne Age avec la fonction map\n",
    "dataset['Age']=dataset['Age'].map({'21-25':1, '16-20':2, '11-15':3, '26-30':4, '6-10':5, '1-5':6 })"
   ]
  },
  {
   "cell_type": "code",
   "execution_count": 11,
   "id": "5b7d8732",
   "metadata": {},
   "outputs": [
    {
     "data": {
      "text/plain": [
       "array(['University', 'College', 'School'], dtype=object)"
      ]
     },
     "execution_count": 11,
     "metadata": {},
     "output_type": "execute_result"
    }
   ],
   "source": [
    "dataset.Education_Level.unique()"
   ]
  },
  {
   "cell_type": "code",
   "execution_count": 12,
   "id": "79c701e4",
   "metadata": {},
   "outputs": [
    {
     "name": "stderr",
     "output_type": "stream",
     "text": [
      "C:\\Users\\CHRISTELLE_MULONDI\\AppData\\Local\\Temp\\ipykernel_41544\\3700912203.py:1: SettingWithCopyWarning: \n",
      "A value is trying to be set on a copy of a slice from a DataFrame.\n",
      "Try using .loc[row_indexer,col_indexer] = value instead\n",
      "\n",
      "See the caveats in the documentation: https://pandas.pydata.org/pandas-docs/stable/user_guide/indexing.html#returning-a-view-versus-a-copy\n",
      "  dataset['Education_Level']=dataset['Education_Level'].map({'University':2, 'College':1, 'School':0 })\n"
     ]
    }
   ],
   "source": [
    "dataset['Education_Level']=dataset['Education_Level'].map({'University':2, 'College':1, 'School':0 })"
   ]
  },
  {
   "cell_type": "code",
   "execution_count": 13,
   "id": "f20a4e2c",
   "metadata": {},
   "outputs": [
    {
     "data": {
      "text/plain": [
       "array(['Non Government', 'Government'], dtype=object)"
      ]
     },
     "execution_count": 13,
     "metadata": {},
     "output_type": "execute_result"
    }
   ],
   "source": [
    "dataset.Institution_Type.unique()"
   ]
  },
  {
   "cell_type": "code",
   "execution_count": 14,
   "id": "c376c534",
   "metadata": {},
   "outputs": [
    {
     "name": "stderr",
     "output_type": "stream",
     "text": [
      "C:\\Users\\CHRISTELLE_MULONDI\\AppData\\Local\\Temp\\ipykernel_41544\\1812564838.py:1: SettingWithCopyWarning: \n",
      "A value is trying to be set on a copy of a slice from a DataFrame.\n",
      "Try using .loc[row_indexer,col_indexer] = value instead\n",
      "\n",
      "See the caveats in the documentation: https://pandas.pydata.org/pandas-docs/stable/user_guide/indexing.html#returning-a-view-versus-a-copy\n",
      "  dataset['Institution_Type']=dataset['Institution_Type'].map({'Non Government':0, 'Government':1})\n"
     ]
    }
   ],
   "source": [
    "dataset['Institution_Type']=dataset['Institution_Type'].map({'Non Government':0, 'Government':1})"
   ]
  },
  {
   "cell_type": "code",
   "execution_count": 15,
   "id": "319e0a9d",
   "metadata": {},
   "outputs": [
    {
     "data": {
      "text/plain": [
       "array(['No', 'Yes'], dtype=object)"
      ]
     },
     "execution_count": 15,
     "metadata": {},
     "output_type": "execute_result"
    }
   ],
   "source": [
    "dataset.IT_Student.unique()"
   ]
  },
  {
   "cell_type": "code",
   "execution_count": 16,
   "id": "e9879df0",
   "metadata": {},
   "outputs": [
    {
     "name": "stderr",
     "output_type": "stream",
     "text": [
      "C:\\Users\\CHRISTELLE_MULONDI\\AppData\\Local\\Temp\\ipykernel_41544\\682241951.py:1: SettingWithCopyWarning: \n",
      "A value is trying to be set on a copy of a slice from a DataFrame.\n",
      "Try using .loc[row_indexer,col_indexer] = value instead\n",
      "\n",
      "See the caveats in the documentation: https://pandas.pydata.org/pandas-docs/stable/user_guide/indexing.html#returning-a-view-versus-a-copy\n",
      "  dataset['IT_Student']=dataset['IT_Student'].map({'No':0, 'Yes':1})\n"
     ]
    }
   ],
   "source": [
    "dataset['IT_Student']=dataset['IT_Student'].map({'No':0, 'Yes':1})"
   ]
  },
  {
   "cell_type": "code",
   "execution_count": 17,
   "id": "05de3239",
   "metadata": {},
   "outputs": [
    {
     "data": {
      "text/plain": [
       "array(['Yes', 'No'], dtype=object)"
      ]
     },
     "execution_count": 17,
     "metadata": {},
     "output_type": "execute_result"
    }
   ],
   "source": [
    "dataset.Location.unique()"
   ]
  },
  {
   "cell_type": "code",
   "execution_count": 18,
   "id": "c1c9fbb0",
   "metadata": {},
   "outputs": [
    {
     "name": "stderr",
     "output_type": "stream",
     "text": [
      "C:\\Users\\CHRISTELLE_MULONDI\\AppData\\Local\\Temp\\ipykernel_41544\\284084226.py:1: SettingWithCopyWarning: \n",
      "A value is trying to be set on a copy of a slice from a DataFrame.\n",
      "Try using .loc[row_indexer,col_indexer] = value instead\n",
      "\n",
      "See the caveats in the documentation: https://pandas.pydata.org/pandas-docs/stable/user_guide/indexing.html#returning-a-view-versus-a-copy\n",
      "  dataset['Location']=dataset['Location'].map({'Yes':1, 'No':0})\n"
     ]
    }
   ],
   "source": [
    "dataset['Location']=dataset['Location'].map({'Yes':1, 'No':0})"
   ]
  },
  {
   "cell_type": "code",
   "execution_count": 19,
   "id": "ff30bee7",
   "metadata": {},
   "outputs": [
    {
     "data": {
      "text/plain": [
       "array(['Low', 'High'], dtype=object)"
      ]
     },
     "execution_count": 19,
     "metadata": {},
     "output_type": "execute_result"
    }
   ],
   "source": [
    "dataset.Load_shedding.unique()"
   ]
  },
  {
   "cell_type": "code",
   "execution_count": 20,
   "id": "6b97d652",
   "metadata": {},
   "outputs": [
    {
     "name": "stderr",
     "output_type": "stream",
     "text": [
      "C:\\Users\\CHRISTELLE_MULONDI\\AppData\\Local\\Temp\\ipykernel_41544\\2077144172.py:1: SettingWithCopyWarning: \n",
      "A value is trying to be set on a copy of a slice from a DataFrame.\n",
      "Try using .loc[row_indexer,col_indexer] = value instead\n",
      "\n",
      "See the caveats in the documentation: https://pandas.pydata.org/pandas-docs/stable/user_guide/indexing.html#returning-a-view-versus-a-copy\n",
      "  dataset['Load_shedding']=dataset['Load_shedding'].map({'Low':0, 'High':1})\n"
     ]
    }
   ],
   "source": [
    "dataset['Load_shedding']=dataset['Load_shedding'].map({'Low':0, 'High':1})"
   ]
  },
  {
   "cell_type": "code",
   "execution_count": 21,
   "id": "f73c12cb",
   "metadata": {},
   "outputs": [
    {
     "data": {
      "text/plain": [
       "array(['Mid', 'Poor', 'Rich'], dtype=object)"
      ]
     },
     "execution_count": 21,
     "metadata": {},
     "output_type": "execute_result"
    }
   ],
   "source": [
    "dataset.Financial_Condition.unique()"
   ]
  },
  {
   "cell_type": "code",
   "execution_count": 22,
   "id": "5f094ba1",
   "metadata": {},
   "outputs": [
    {
     "name": "stderr",
     "output_type": "stream",
     "text": [
      "C:\\Users\\CHRISTELLE_MULONDI\\AppData\\Local\\Temp\\ipykernel_41544\\1295605398.py:1: SettingWithCopyWarning: \n",
      "A value is trying to be set on a copy of a slice from a DataFrame.\n",
      "Try using .loc[row_indexer,col_indexer] = value instead\n",
      "\n",
      "See the caveats in the documentation: https://pandas.pydata.org/pandas-docs/stable/user_guide/indexing.html#returning-a-view-versus-a-copy\n",
      "  dataset['Financial_Condition']=dataset['Financial_Condition'].map({'Mid':0, 'Poor':1, 'Rich':2})\n"
     ]
    }
   ],
   "source": [
    "dataset['Financial_Condition']=dataset['Financial_Condition'].map({'Mid':0, 'Poor':1, 'Rich':2})"
   ]
  },
  {
   "cell_type": "code",
   "execution_count": 23,
   "id": "ecf95888",
   "metadata": {},
   "outputs": [
    {
     "data": {
      "text/plain": [
       "array(['Wifi', 'Mobile Data'], dtype=object)"
      ]
     },
     "execution_count": 23,
     "metadata": {},
     "output_type": "execute_result"
    }
   ],
   "source": [
    "dataset.Internet_Type.unique()"
   ]
  },
  {
   "cell_type": "code",
   "execution_count": 24,
   "id": "2cb228c9",
   "metadata": {},
   "outputs": [
    {
     "name": "stderr",
     "output_type": "stream",
     "text": [
      "C:\\Users\\CHRISTELLE_MULONDI\\AppData\\Local\\Temp\\ipykernel_41544\\699880845.py:1: SettingWithCopyWarning: \n",
      "A value is trying to be set on a copy of a slice from a DataFrame.\n",
      "Try using .loc[row_indexer,col_indexer] = value instead\n",
      "\n",
      "See the caveats in the documentation: https://pandas.pydata.org/pandas-docs/stable/user_guide/indexing.html#returning-a-view-versus-a-copy\n",
      "  dataset['Internet_Type']=dataset['Internet_Type'].map({'Wifi':0, 'Mobile Data':1})\n"
     ]
    }
   ],
   "source": [
    "dataset['Internet_Type']=dataset['Internet_Type'].map({'Wifi':0, 'Mobile Data':1})"
   ]
  },
  {
   "cell_type": "code",
   "execution_count": 25,
   "id": "c21b0084",
   "metadata": {},
   "outputs": [
    {
     "data": {
      "text/plain": [
       "array(['4G', '3G', '2G'], dtype=object)"
      ]
     },
     "execution_count": 25,
     "metadata": {},
     "output_type": "execute_result"
    }
   ],
   "source": [
    "dataset.Network_Type.unique()"
   ]
  },
  {
   "cell_type": "code",
   "execution_count": 26,
   "id": "058d3685",
   "metadata": {},
   "outputs": [
    {
     "name": "stderr",
     "output_type": "stream",
     "text": [
      "C:\\Users\\CHRISTELLE_MULONDI\\AppData\\Local\\Temp\\ipykernel_41544\\1399156827.py:1: SettingWithCopyWarning: \n",
      "A value is trying to be set on a copy of a slice from a DataFrame.\n",
      "Try using .loc[row_indexer,col_indexer] = value instead\n",
      "\n",
      "See the caveats in the documentation: https://pandas.pydata.org/pandas-docs/stable/user_guide/indexing.html#returning-a-view-versus-a-copy\n",
      "  dataset['Network_Type']=dataset['Network_Type'].map({'4G':1, '3G':2, '2G':3})\n"
     ]
    }
   ],
   "source": [
    "dataset['Network_Type']=dataset['Network_Type'].map({'4G':1, '3G':2, '2G':3})"
   ]
  },
  {
   "cell_type": "code",
   "execution_count": 27,
   "id": "03532427",
   "metadata": {},
   "outputs": [
    {
     "data": {
      "text/plain": [
       "array(['3-6', '1-3', '0'], dtype=object)"
      ]
     },
     "execution_count": 27,
     "metadata": {},
     "output_type": "execute_result"
    }
   ],
   "source": [
    "dataset.Class_Duration.unique()"
   ]
  },
  {
   "cell_type": "code",
   "execution_count": 28,
   "id": "eb699a86",
   "metadata": {},
   "outputs": [
    {
     "name": "stderr",
     "output_type": "stream",
     "text": [
      "C:\\Users\\CHRISTELLE_MULONDI\\AppData\\Local\\Temp\\ipykernel_41544\\961227219.py:1: SettingWithCopyWarning: \n",
      "A value is trying to be set on a copy of a slice from a DataFrame.\n",
      "Try using .loc[row_indexer,col_indexer] = value instead\n",
      "\n",
      "See the caveats in the documentation: https://pandas.pydata.org/pandas-docs/stable/user_guide/indexing.html#returning-a-view-versus-a-copy\n",
      "  dataset['Class_Duration']=dataset['Class_Duration'].map({'3-6':2, '1-3':1, '0':0})\n"
     ]
    }
   ],
   "source": [
    "dataset['Class_Duration']=dataset['Class_Duration'].map({'3-6':2, '1-3':1, '0':0})"
   ]
  },
  {
   "cell_type": "code",
   "execution_count": 29,
   "id": "e4f6acf2",
   "metadata": {},
   "outputs": [
    {
     "data": {
      "text/plain": [
       "array(['No', 'Yes'], dtype=object)"
      ]
     },
     "execution_count": 29,
     "metadata": {},
     "output_type": "execute_result"
    }
   ],
   "source": [
    "dataset.Self_Lms.unique()"
   ]
  },
  {
   "cell_type": "code",
   "execution_count": 30,
   "id": "311495ee",
   "metadata": {},
   "outputs": [
    {
     "name": "stderr",
     "output_type": "stream",
     "text": [
      "C:\\Users\\CHRISTELLE_MULONDI\\AppData\\Local\\Temp\\ipykernel_41544\\956929909.py:1: SettingWithCopyWarning: \n",
      "A value is trying to be set on a copy of a slice from a DataFrame.\n",
      "Try using .loc[row_indexer,col_indexer] = value instead\n",
      "\n",
      "See the caveats in the documentation: https://pandas.pydata.org/pandas-docs/stable/user_guide/indexing.html#returning-a-view-versus-a-copy\n",
      "  dataset['Self_Lms']=dataset['Self_Lms'].map({'No':0, 'Yes':1})\n"
     ]
    }
   ],
   "source": [
    "dataset['Self_Lms']=dataset['Self_Lms'].map({'No':0, 'Yes':1})"
   ]
  },
  {
   "cell_type": "code",
   "execution_count": 31,
   "id": "30e856b2",
   "metadata": {},
   "outputs": [
    {
     "data": {
      "text/plain": [
       "array(['Tab', 'Mobile', 'Computer'], dtype=object)"
      ]
     },
     "execution_count": 31,
     "metadata": {},
     "output_type": "execute_result"
    }
   ],
   "source": [
    "dataset.Device.unique()"
   ]
  },
  {
   "cell_type": "code",
   "execution_count": 32,
   "id": "e8308c5b",
   "metadata": {},
   "outputs": [
    {
     "name": "stderr",
     "output_type": "stream",
     "text": [
      "C:\\Users\\CHRISTELLE_MULONDI\\AppData\\Local\\Temp\\ipykernel_41544\\318372576.py:1: SettingWithCopyWarning: \n",
      "A value is trying to be set on a copy of a slice from a DataFrame.\n",
      "Try using .loc[row_indexer,col_indexer] = value instead\n",
      "\n",
      "See the caveats in the documentation: https://pandas.pydata.org/pandas-docs/stable/user_guide/indexing.html#returning-a-view-versus-a-copy\n",
      "  dataset['Device']=dataset['Device'].map({'Tab':1, 'Mobile':2, 'Computer':3})\n"
     ]
    }
   ],
   "source": [
    "dataset['Device']=dataset['Device'].map({'Tab':1, 'Mobile':2, 'Computer':3})"
   ]
  },
  {
   "cell_type": "code",
   "execution_count": 33,
   "id": "ec6f3e25",
   "metadata": {},
   "outputs": [
    {
     "data": {
      "text/plain": [
       "array(['Moderate', 'Low', 'High'], dtype=object)"
      ]
     },
     "execution_count": 33,
     "metadata": {},
     "output_type": "execute_result"
    }
   ],
   "source": [
    "dataset.Adaptivity_Level.unique()"
   ]
  },
  {
   "cell_type": "code",
   "execution_count": 34,
   "id": "796c9e8f",
   "metadata": {},
   "outputs": [
    {
     "name": "stderr",
     "output_type": "stream",
     "text": [
      "C:\\Users\\CHRISTELLE_MULONDI\\AppData\\Local\\Temp\\ipykernel_41544\\4166222802.py:1: SettingWithCopyWarning: \n",
      "A value is trying to be set on a copy of a slice from a DataFrame.\n",
      "Try using .loc[row_indexer,col_indexer] = value instead\n",
      "\n",
      "See the caveats in the documentation: https://pandas.pydata.org/pandas-docs/stable/user_guide/indexing.html#returning-a-view-versus-a-copy\n",
      "  dataset['Adaptivity_Level']=dataset['Adaptivity_Level'].map({'Moderate':1, 'Low':2, 'High':3})\n"
     ]
    }
   ],
   "source": [
    "dataset['Adaptivity_Level']=dataset['Adaptivity_Level'].map({'Moderate':1, 'Low':2, 'High':3})"
   ]
  },
  {
   "cell_type": "code",
   "execution_count": 35,
   "id": "c9b534f8",
   "metadata": {},
   "outputs": [
    {
     "data": {
      "text/html": [
       "<div>\n",
       "<style scoped>\n",
       "    .dataframe tbody tr th:only-of-type {\n",
       "        vertical-align: middle;\n",
       "    }\n",
       "\n",
       "    .dataframe tbody tr th {\n",
       "        vertical-align: top;\n",
       "    }\n",
       "\n",
       "    .dataframe thead th {\n",
       "        text-align: right;\n",
       "    }\n",
       "</style>\n",
       "<table border=\"1\" class=\"dataframe\">\n",
       "  <thead>\n",
       "    <tr style=\"text-align: right;\">\n",
       "      <th></th>\n",
       "      <th>Gender</th>\n",
       "      <th>Age</th>\n",
       "      <th>Education_Level</th>\n",
       "      <th>Institution_Type</th>\n",
       "      <th>IT_Student</th>\n",
       "      <th>Location</th>\n",
       "      <th>Load_shedding</th>\n",
       "      <th>Financial_Condition</th>\n",
       "      <th>Internet_Type</th>\n",
       "      <th>Network_Type</th>\n",
       "      <th>Class_Duration</th>\n",
       "      <th>Self_Lms</th>\n",
       "      <th>Device</th>\n",
       "      <th>Adaptivity_Level</th>\n",
       "    </tr>\n",
       "  </thead>\n",
       "  <tbody>\n",
       "    <tr>\n",
       "      <th>0</th>\n",
       "      <td>1</td>\n",
       "      <td>1</td>\n",
       "      <td>2</td>\n",
       "      <td>0</td>\n",
       "      <td>0</td>\n",
       "      <td>1</td>\n",
       "      <td>0</td>\n",
       "      <td>0</td>\n",
       "      <td>0</td>\n",
       "      <td>1</td>\n",
       "      <td>2</td>\n",
       "      <td>0</td>\n",
       "      <td>1</td>\n",
       "      <td>1</td>\n",
       "    </tr>\n",
       "    <tr>\n",
       "      <th>1</th>\n",
       "      <td>0</td>\n",
       "      <td>1</td>\n",
       "      <td>2</td>\n",
       "      <td>0</td>\n",
       "      <td>0</td>\n",
       "      <td>1</td>\n",
       "      <td>1</td>\n",
       "      <td>0</td>\n",
       "      <td>1</td>\n",
       "      <td>1</td>\n",
       "      <td>1</td>\n",
       "      <td>1</td>\n",
       "      <td>2</td>\n",
       "      <td>1</td>\n",
       "    </tr>\n",
       "    <tr>\n",
       "      <th>2</th>\n",
       "      <td>0</td>\n",
       "      <td>2</td>\n",
       "      <td>1</td>\n",
       "      <td>1</td>\n",
       "      <td>0</td>\n",
       "      <td>1</td>\n",
       "      <td>0</td>\n",
       "      <td>0</td>\n",
       "      <td>0</td>\n",
       "      <td>1</td>\n",
       "      <td>1</td>\n",
       "      <td>0</td>\n",
       "      <td>2</td>\n",
       "      <td>1</td>\n",
       "    </tr>\n",
       "    <tr>\n",
       "      <th>3</th>\n",
       "      <td>0</td>\n",
       "      <td>3</td>\n",
       "      <td>0</td>\n",
       "      <td>0</td>\n",
       "      <td>0</td>\n",
       "      <td>1</td>\n",
       "      <td>0</td>\n",
       "      <td>0</td>\n",
       "      <td>1</td>\n",
       "      <td>1</td>\n",
       "      <td>1</td>\n",
       "      <td>0</td>\n",
       "      <td>2</td>\n",
       "      <td>1</td>\n",
       "    </tr>\n",
       "    <tr>\n",
       "      <th>4</th>\n",
       "      <td>0</td>\n",
       "      <td>2</td>\n",
       "      <td>0</td>\n",
       "      <td>0</td>\n",
       "      <td>0</td>\n",
       "      <td>1</td>\n",
       "      <td>0</td>\n",
       "      <td>1</td>\n",
       "      <td>1</td>\n",
       "      <td>2</td>\n",
       "      <td>0</td>\n",
       "      <td>0</td>\n",
       "      <td>2</td>\n",
       "      <td>2</td>\n",
       "    </tr>\n",
       "    <tr>\n",
       "      <th>...</th>\n",
       "      <td>...</td>\n",
       "      <td>...</td>\n",
       "      <td>...</td>\n",
       "      <td>...</td>\n",
       "      <td>...</td>\n",
       "      <td>...</td>\n",
       "      <td>...</td>\n",
       "      <td>...</td>\n",
       "      <td>...</td>\n",
       "      <td>...</td>\n",
       "      <td>...</td>\n",
       "      <td>...</td>\n",
       "      <td>...</td>\n",
       "      <td>...</td>\n",
       "    </tr>\n",
       "    <tr>\n",
       "      <th>1200</th>\n",
       "      <td>0</td>\n",
       "      <td>2</td>\n",
       "      <td>1</td>\n",
       "      <td>0</td>\n",
       "      <td>0</td>\n",
       "      <td>1</td>\n",
       "      <td>0</td>\n",
       "      <td>0</td>\n",
       "      <td>0</td>\n",
       "      <td>1</td>\n",
       "      <td>1</td>\n",
       "      <td>0</td>\n",
       "      <td>2</td>\n",
       "      <td>2</td>\n",
       "    </tr>\n",
       "    <tr>\n",
       "      <th>1201</th>\n",
       "      <td>0</td>\n",
       "      <td>2</td>\n",
       "      <td>1</td>\n",
       "      <td>0</td>\n",
       "      <td>0</td>\n",
       "      <td>0</td>\n",
       "      <td>1</td>\n",
       "      <td>0</td>\n",
       "      <td>0</td>\n",
       "      <td>1</td>\n",
       "      <td>2</td>\n",
       "      <td>0</td>\n",
       "      <td>2</td>\n",
       "      <td>1</td>\n",
       "    </tr>\n",
       "    <tr>\n",
       "      <th>1202</th>\n",
       "      <td>1</td>\n",
       "      <td>3</td>\n",
       "      <td>0</td>\n",
       "      <td>0</td>\n",
       "      <td>0</td>\n",
       "      <td>1</td>\n",
       "      <td>0</td>\n",
       "      <td>0</td>\n",
       "      <td>1</td>\n",
       "      <td>2</td>\n",
       "      <td>1</td>\n",
       "      <td>0</td>\n",
       "      <td>2</td>\n",
       "      <td>1</td>\n",
       "    </tr>\n",
       "    <tr>\n",
       "      <th>1203</th>\n",
       "      <td>0</td>\n",
       "      <td>2</td>\n",
       "      <td>1</td>\n",
       "      <td>0</td>\n",
       "      <td>0</td>\n",
       "      <td>0</td>\n",
       "      <td>0</td>\n",
       "      <td>0</td>\n",
       "      <td>0</td>\n",
       "      <td>1</td>\n",
       "      <td>1</td>\n",
       "      <td>0</td>\n",
       "      <td>2</td>\n",
       "      <td>2</td>\n",
       "    </tr>\n",
       "    <tr>\n",
       "      <th>1204</th>\n",
       "      <td>0</td>\n",
       "      <td>3</td>\n",
       "      <td>0</td>\n",
       "      <td>0</td>\n",
       "      <td>0</td>\n",
       "      <td>1</td>\n",
       "      <td>0</td>\n",
       "      <td>1</td>\n",
       "      <td>1</td>\n",
       "      <td>2</td>\n",
       "      <td>1</td>\n",
       "      <td>0</td>\n",
       "      <td>2</td>\n",
       "      <td>1</td>\n",
       "    </tr>\n",
       "  </tbody>\n",
       "</table>\n",
       "<p>1205 rows × 14 columns</p>\n",
       "</div>"
      ],
      "text/plain": [
       "      Gender  Age  Education_Level  Institution_Type  IT_Student  Location  \\\n",
       "0          1    1                2                 0           0         1   \n",
       "1          0    1                2                 0           0         1   \n",
       "2          0    2                1                 1           0         1   \n",
       "3          0    3                0                 0           0         1   \n",
       "4          0    2                0                 0           0         1   \n",
       "...      ...  ...              ...               ...         ...       ...   \n",
       "1200       0    2                1                 0           0         1   \n",
       "1201       0    2                1                 0           0         0   \n",
       "1202       1    3                0                 0           0         1   \n",
       "1203       0    2                1                 0           0         0   \n",
       "1204       0    3                0                 0           0         1   \n",
       "\n",
       "      Load_shedding  Financial_Condition  Internet_Type  Network_Type  \\\n",
       "0                 0                    0              0             1   \n",
       "1                 1                    0              1             1   \n",
       "2                 0                    0              0             1   \n",
       "3                 0                    0              1             1   \n",
       "4                 0                    1              1             2   \n",
       "...             ...                  ...            ...           ...   \n",
       "1200              0                    0              0             1   \n",
       "1201              1                    0              0             1   \n",
       "1202              0                    0              1             2   \n",
       "1203              0                    0              0             1   \n",
       "1204              0                    1              1             2   \n",
       "\n",
       "      Class_Duration  Self_Lms  Device  Adaptivity_Level  \n",
       "0                  2         0       1                 1  \n",
       "1                  1         1       2                 1  \n",
       "2                  1         0       2                 1  \n",
       "3                  1         0       2                 1  \n",
       "4                  0         0       2                 2  \n",
       "...              ...       ...     ...               ...  \n",
       "1200               1         0       2                 2  \n",
       "1201               2         0       2                 1  \n",
       "1202               1         0       2                 1  \n",
       "1203               1         0       2                 2  \n",
       "1204               1         0       2                 1  \n",
       "\n",
       "[1205 rows x 14 columns]"
      ]
     },
     "execution_count": 35,
     "metadata": {},
     "output_type": "execute_result"
    }
   ],
   "source": [
    "dataset"
   ]
  },
  {
   "cell_type": "code",
   "execution_count": 36,
   "id": "397940e2",
   "metadata": {},
   "outputs": [
    {
     "name": "stdout",
     "output_type": "stream",
     "text": [
      "<class 'pandas.core.frame.DataFrame'>\n",
      "RangeIndex: 1205 entries, 0 to 1204\n",
      "Data columns (total 14 columns):\n",
      " #   Column               Non-Null Count  Dtype\n",
      "---  ------               --------------  -----\n",
      " 0   Gender               1205 non-null   int64\n",
      " 1   Age                  1205 non-null   int64\n",
      " 2   Education_Level      1205 non-null   int64\n",
      " 3   Institution_Type     1205 non-null   int64\n",
      " 4   IT_Student           1205 non-null   int64\n",
      " 5   Location             1205 non-null   int64\n",
      " 6   Load_shedding        1205 non-null   int64\n",
      " 7   Financial_Condition  1205 non-null   int64\n",
      " 8   Internet_Type        1205 non-null   int64\n",
      " 9   Network_Type         1205 non-null   int64\n",
      " 10  Class_Duration       1205 non-null   int64\n",
      " 11  Self_Lms             1205 non-null   int64\n",
      " 12  Device               1205 non-null   int64\n",
      " 13  Adaptivity_Level     1205 non-null   int64\n",
      "dtypes: int64(14)\n",
      "memory usage: 131.9 KB\n"
     ]
    }
   ],
   "source": [
    "dataset.info()"
   ]
  },
  {
   "cell_type": "code",
   "execution_count": 37,
   "id": "0e736d8f",
   "metadata": {},
   "outputs": [
    {
     "data": {
      "text/plain": [
       "<AxesSubplot:>"
      ]
     },
     "execution_count": 37,
     "metadata": {},
     "output_type": "execute_result"
    },
    {
     "data": {
      "image/png": "[encoded data removed]",
      "text/plain": [
       "<Figure size 432x288 with 1 Axes>"
      ]
     },
     "metadata": {
      "needs_background": "light"
     },
     "output_type": "display_data"
    }
   ],
   "source": [
    "dataset.boxplot() # verification des données aberentes"
   ]
  },
  {
   "cell_type": "code",
   "execution_count": 38,
   "id": "88497c29",
   "metadata": {},
   "outputs": [],
   "source": [
    "\n",
    "import numpy as np\n",
    "for Locations in ['Location']:\n",
    "    Q3,Q1=np.percentile(dataset.loc[:,Locations],[75,25])\n",
    "    IQR=Q3-Q1\n",
    "    min=Q1-(1.5*IQR)\n",
    "    max=Q3+(1.5*IQR)\n",
    "    dataset.loc[dataset[Locations]<min, Locations]=min\n",
    "    dataset.loc[dataset[Locations]>max, Locations]=max"
   ]
  },
  {
   "cell_type": "code",
   "execution_count": 39,
   "id": "a5fb4f98",
   "metadata": {},
   "outputs": [],
   "source": [
    "\n",
    "import numpy as np\n",
    "for Load_sheddings in ['Load_shedding']:\n",
    "    Q3,Q1=np.percentile(dataset.loc[:,Load_sheddings],[75,25])\n",
    "    IQR=Q3-Q1\n",
    "    min=Q1-(1.5*IQR)\n",
    "    max=Q3+(1.5*IQR)\n",
    "    dataset.loc[dataset[Load_sheddings]<min, Load_sheddings]=min\n",
    "    dataset.loc[dataset[Load_sheddings]>max,Load_sheddings]=max"
   ]
  },
  {
   "cell_type": "code",
   "execution_count": 40,
   "id": "2f208683",
   "metadata": {},
   "outputs": [],
   "source": [
    "import numpy as np\n",
    "for Class_Durations in ['Class_Duration']:\n",
    "    Q3,Q1=np.percentile(dataset.loc[:,Class_Durations],[75,25])\n",
    "    IQR=Q3-Q1\n",
    "    min=Q1-(1.5*IQR)\n",
    "    max=Q3+(1.5*IQR)\n",
    "    dataset.loc[dataset[Class_Durations]<min,Class_Durations]=min\n",
    "    dataset.loc[dataset[Class_Durations]>max,Class_Durations]=max"
   ]
  },
  {
   "cell_type": "code",
   "execution_count": 41,
   "id": "2c35f8da",
   "metadata": {},
   "outputs": [],
   "source": [
    "import numpy as np\n",
    "for Self_Lmss in ['Self_Lms']:\n",
    "    Q3,Q1=np.percentile(dataset.loc[:,Self_Lmss],[75,25])\n",
    "    IQR=Q3-Q1\n",
    "    min=Q1-(1.5*IQR)\n",
    "    max=Q3+(1.5*IQR)\n",
    "    dataset.loc[dataset[Self_Lmss]<min,Self_Lmss]=min\n",
    "    dataset.loc[dataset[Self_Lmss]>max,Self_Lmss]=max"
   ]
  },
  {
   "cell_type": "code",
   "execution_count": 42,
   "id": "f382ce41",
   "metadata": {},
   "outputs": [],
   "source": [
    "import numpy as np\n",
    "for  Devices in ['Device']:\n",
    "    Q3,Q1=np.percentile(dataset.loc[:, Devices],[75,25])\n",
    "    IQR=Q3-Q1\n",
    "    min=Q1-(1.5*IQR)\n",
    "    max=Q3+(1.5*IQR)\n",
    "    dataset.loc[dataset[ Devices]<min,Devices]=min\n",
    "    dataset.loc[dataset[ Devices]>max,Devices]=max"
   ]
  },
  {
   "cell_type": "code",
   "execution_count": 43,
   "id": "df9c9add",
   "metadata": {},
   "outputs": [
    {
     "data": {
      "text/plain": [
       "<AxesSubplot:>"
      ]
     },
     "execution_count": 43,
     "metadata": {},
     "output_type": "execute_result"
    },
    {
     "data": {
      "image/png": "[encoded data removed]",
      "text/plain": [
       "<Figure size 432x288 with 1 Axes>"
      ]
     },
     "metadata": {
      "needs_background": "light"
     },
     "output_type": "display_data"
    }
   ],
   "source": [
    "dataset.boxplot()"
   ]
  },
  {
   "cell_type": "code",
   "execution_count": 44,
   "id": "cece9da5",
   "metadata": {},
   "outputs": [],
   "source": [
    "# permet de sauvegarder notre dataset\n",
    "dataset.to_csv(\"dataFinals.csv\",index=False)"
   ]
  },
  {
   "cell_type": "markdown",
   "id": "af426f3c",
   "metadata": {},
   "source": [
    "# Debut ML"
   ]
  },
  {
   "cell_type": "code",
   "execution_count": 45,
   "id": "a30f5c4d",
   "metadata": {},
   "outputs": [
    {
     "data": {
      "text/html": [
       "<div>\n",
       "<style scoped>\n",
       "    .dataframe tbody tr th:only-of-type {\n",
       "        vertical-align: middle;\n",
       "    }\n",
       "\n",
       "    .dataframe tbody tr th {\n",
       "        vertical-align: top;\n",
       "    }\n",
       "\n",
       "    .dataframe thead th {\n",
       "        text-align: right;\n",
       "    }\n",
       "</style>\n",
       "<table border=\"1\" class=\"dataframe\">\n",
       "  <thead>\n",
       "    <tr style=\"text-align: right;\">\n",
       "      <th></th>\n",
       "      <th>Gender</th>\n",
       "      <th>Age</th>\n",
       "      <th>Education_Level</th>\n",
       "      <th>Institution_Type</th>\n",
       "      <th>IT_Student</th>\n",
       "      <th>Location</th>\n",
       "      <th>Load_shedding</th>\n",
       "      <th>Financial_Condition</th>\n",
       "      <th>Internet_Type</th>\n",
       "      <th>Network_Type</th>\n",
       "      <th>Class_Duration</th>\n",
       "      <th>Self_Lms</th>\n",
       "      <th>Device</th>\n",
       "      <th>Adaptivity_Level</th>\n",
       "    </tr>\n",
       "  </thead>\n",
       "  <tbody>\n",
       "    <tr>\n",
       "      <th>0</th>\n",
       "      <td>1</td>\n",
       "      <td>1</td>\n",
       "      <td>2</td>\n",
       "      <td>0</td>\n",
       "      <td>0</td>\n",
       "      <td>1</td>\n",
       "      <td>0</td>\n",
       "      <td>0</td>\n",
       "      <td>0</td>\n",
       "      <td>1</td>\n",
       "      <td>1</td>\n",
       "      <td>0</td>\n",
       "      <td>2</td>\n",
       "      <td>1</td>\n",
       "    </tr>\n",
       "    <tr>\n",
       "      <th>1</th>\n",
       "      <td>0</td>\n",
       "      <td>1</td>\n",
       "      <td>2</td>\n",
       "      <td>0</td>\n",
       "      <td>0</td>\n",
       "      <td>1</td>\n",
       "      <td>0</td>\n",
       "      <td>0</td>\n",
       "      <td>1</td>\n",
       "      <td>1</td>\n",
       "      <td>1</td>\n",
       "      <td>0</td>\n",
       "      <td>2</td>\n",
       "      <td>1</td>\n",
       "    </tr>\n",
       "    <tr>\n",
       "      <th>2</th>\n",
       "      <td>0</td>\n",
       "      <td>2</td>\n",
       "      <td>1</td>\n",
       "      <td>1</td>\n",
       "      <td>0</td>\n",
       "      <td>1</td>\n",
       "      <td>0</td>\n",
       "      <td>0</td>\n",
       "      <td>0</td>\n",
       "      <td>1</td>\n",
       "      <td>1</td>\n",
       "      <td>0</td>\n",
       "      <td>2</td>\n",
       "      <td>1</td>\n",
       "    </tr>\n",
       "    <tr>\n",
       "      <th>3</th>\n",
       "      <td>0</td>\n",
       "      <td>3</td>\n",
       "      <td>0</td>\n",
       "      <td>0</td>\n",
       "      <td>0</td>\n",
       "      <td>1</td>\n",
       "      <td>0</td>\n",
       "      <td>0</td>\n",
       "      <td>1</td>\n",
       "      <td>1</td>\n",
       "      <td>1</td>\n",
       "      <td>0</td>\n",
       "      <td>2</td>\n",
       "      <td>1</td>\n",
       "    </tr>\n",
       "    <tr>\n",
       "      <th>4</th>\n",
       "      <td>0</td>\n",
       "      <td>2</td>\n",
       "      <td>0</td>\n",
       "      <td>0</td>\n",
       "      <td>0</td>\n",
       "      <td>1</td>\n",
       "      <td>0</td>\n",
       "      <td>1</td>\n",
       "      <td>1</td>\n",
       "      <td>2</td>\n",
       "      <td>1</td>\n",
       "      <td>0</td>\n",
       "      <td>2</td>\n",
       "      <td>2</td>\n",
       "    </tr>\n",
       "    <tr>\n",
       "      <th>...</th>\n",
       "      <td>...</td>\n",
       "      <td>...</td>\n",
       "      <td>...</td>\n",
       "      <td>...</td>\n",
       "      <td>...</td>\n",
       "      <td>...</td>\n",
       "      <td>...</td>\n",
       "      <td>...</td>\n",
       "      <td>...</td>\n",
       "      <td>...</td>\n",
       "      <td>...</td>\n",
       "      <td>...</td>\n",
       "      <td>...</td>\n",
       "      <td>...</td>\n",
       "    </tr>\n",
       "    <tr>\n",
       "      <th>1200</th>\n",
       "      <td>0</td>\n",
       "      <td>2</td>\n",
       "      <td>1</td>\n",
       "      <td>0</td>\n",
       "      <td>0</td>\n",
       "      <td>1</td>\n",
       "      <td>0</td>\n",
       "      <td>0</td>\n",
       "      <td>0</td>\n",
       "      <td>1</td>\n",
       "      <td>1</td>\n",
       "      <td>0</td>\n",
       "      <td>2</td>\n",
       "      <td>2</td>\n",
       "    </tr>\n",
       "    <tr>\n",
       "      <th>1201</th>\n",
       "      <td>0</td>\n",
       "      <td>2</td>\n",
       "      <td>1</td>\n",
       "      <td>0</td>\n",
       "      <td>0</td>\n",
       "      <td>1</td>\n",
       "      <td>0</td>\n",
       "      <td>0</td>\n",
       "      <td>0</td>\n",
       "      <td>1</td>\n",
       "      <td>1</td>\n",
       "      <td>0</td>\n",
       "      <td>2</td>\n",
       "      <td>1</td>\n",
       "    </tr>\n",
       "    <tr>\n",
       "      <th>1202</th>\n",
       "      <td>1</td>\n",
       "      <td>3</td>\n",
       "      <td>0</td>\n",
       "      <td>0</td>\n",
       "      <td>0</td>\n",
       "      <td>1</td>\n",
       "      <td>0</td>\n",
       "      <td>0</td>\n",
       "      <td>1</td>\n",
       "      <td>2</td>\n",
       "      <td>1</td>\n",
       "      <td>0</td>\n",
       "      <td>2</td>\n",
       "      <td>1</td>\n",
       "    </tr>\n",
       "    <tr>\n",
       "      <th>1203</th>\n",
       "      <td>0</td>\n",
       "      <td>2</td>\n",
       "      <td>1</td>\n",
       "      <td>0</td>\n",
       "      <td>0</td>\n",
       "      <td>1</td>\n",
       "      <td>0</td>\n",
       "      <td>0</td>\n",
       "      <td>0</td>\n",
       "      <td>1</td>\n",
       "      <td>1</td>\n",
       "      <td>0</td>\n",
       "      <td>2</td>\n",
       "      <td>2</td>\n",
       "    </tr>\n",
       "    <tr>\n",
       "      <th>1204</th>\n",
       "      <td>0</td>\n",
       "      <td>3</td>\n",
       "      <td>0</td>\n",
       "      <td>0</td>\n",
       "      <td>0</td>\n",
       "      <td>1</td>\n",
       "      <td>0</td>\n",
       "      <td>1</td>\n",
       "      <td>1</td>\n",
       "      <td>2</td>\n",
       "      <td>1</td>\n",
       "      <td>0</td>\n",
       "      <td>2</td>\n",
       "      <td>1</td>\n",
       "    </tr>\n",
       "  </tbody>\n",
       "</table>\n",
       "<p>1205 rows × 14 columns</p>\n",
       "</div>"
      ],
      "text/plain": [
       "      Gender  Age  Education_Level  Institution_Type  IT_Student  Location  \\\n",
       "0          1    1                2                 0           0         1   \n",
       "1          0    1                2                 0           0         1   \n",
       "2          0    2                1                 1           0         1   \n",
       "3          0    3                0                 0           0         1   \n",
       "4          0    2                0                 0           0         1   \n",
       "...      ...  ...              ...               ...         ...       ...   \n",
       "1200       0    2                1                 0           0         1   \n",
       "1201       0    2                1                 0           0         1   \n",
       "1202       1    3                0                 0           0         1   \n",
       "1203       0    2                1                 0           0         1   \n",
       "1204       0    3                0                 0           0         1   \n",
       "\n",
       "      Load_shedding  Financial_Condition  Internet_Type  Network_Type  \\\n",
       "0                 0                    0              0             1   \n",
       "1                 0                    0              1             1   \n",
       "2                 0                    0              0             1   \n",
       "3                 0                    0              1             1   \n",
       "4                 0                    1              1             2   \n",
       "...             ...                  ...            ...           ...   \n",
       "1200              0                    0              0             1   \n",
       "1201              0                    0              0             1   \n",
       "1202              0                    0              1             2   \n",
       "1203              0                    0              0             1   \n",
       "1204              0                    1              1             2   \n",
       "\n",
       "      Class_Duration  Self_Lms  Device  Adaptivity_Level  \n",
       "0                  1         0       2                 1  \n",
       "1                  1         0       2                 1  \n",
       "2                  1         0       2                 1  \n",
       "3                  1         0       2                 1  \n",
       "4                  1         0       2                 2  \n",
       "...              ...       ...     ...               ...  \n",
       "1200               1         0       2                 2  \n",
       "1201               1         0       2                 1  \n",
       "1202               1         0       2                 1  \n",
       "1203               1         0       2                 2  \n",
       "1204               1         0       2                 1  \n",
       "\n",
       "[1205 rows x 14 columns]"
      ]
     },
     "execution_count": 45,
     "metadata": {},
     "output_type": "execute_result"
    }
   ],
   "source": [
    "# Lire les données du dataset et afficher les lignes\n",
    "dataset=pd.read_csv('dataFinals.csv')\n",
    "dataset"
   ]
  },
  {
   "cell_type": "code",
   "execution_count": 46,
   "id": "246d5b4c",
   "metadata": {},
   "outputs": [],
   "source": [
    "# séparer les caractéristiques (x) du target (y)\n",
    "x=dataset.drop(['Adaptivity_Level'],axis=1)\n",
    "y=dataset['Adaptivity_Level']"
   ]
  },
  {
   "cell_type": "code",
   "execution_count": 47,
   "id": "b82e03f7",
   "metadata": {},
   "outputs": [],
   "source": [
    "#importtrain_test_split qui nous permettra de séparer aléatoirement notre jeu de données en données de train et de test.\n",
    "from sklearn.model_selection import train_test_split\n",
    "#test_size=0.15, C'est ici que nous allouons 15%\n",
    "# x_train va contenir le training features et y_train va contenir training du target \n",
    "# x_test et y_test sont utiliser pour le teste ou l'essai des données \n",
    "#  random_state=10: pour l'obtation des resultats après execution d'une manière aleatoire\n",
    "x_train,x_test,y_train,y_test=train_test_split(x,y,test_size=0.1,\n",
    "                                               random_state=123)"
   ]
  },
  {
   "cell_type": "markdown",
   "id": "03b0874c",
   "metadata": {},
   "source": [
    "# RandomForestclassifier"
   ]
  },
  {
   "cell_type": "code",
   "execution_count": 48,
   "id": "e11a1147",
   "metadata": {},
   "outputs": [],
   "source": [
    "# Importer le modèle classification que nous utilisons\n",
    "from sklearn.ensemble import RandomForestClassifier"
   ]
  },
  {
   "cell_type": "code",
   "execution_count": 49,
   "id": "318f622f",
   "metadata": {},
   "outputs": [],
   "source": [
    "# modelRF=RandomForestRegressor(): definition du modele Random ou extaciation du modele\n",
    "# modelRF.fit(x_train,y_train), nous créons notre modèle sur la base des données de training et fit permet d'entrainer notre modele.\n",
    "# y_predictRF=modelRF.predict(x_test):permet de fournir des données (X_test) à notre modèle (modelR), puis d'appeler la méthode predict() pour faire des prédictions. \n",
    "# Les prédictions sont sauvegardées dans y_predictRF.\n",
    "modelRF=RandomForestClassifier()\n",
    "modelRF.fit(x_train,y_train)\n",
    "y_predictRF=modelRF.predict(x_test)"
   ]
  },
  {
   "cell_type": "code",
   "execution_count": 50,
   "id": "a46e98a7",
   "metadata": {},
   "outputs": [
    {
     "data": {
      "text/html": [
       "<div>\n",
       "<style scoped>\n",
       "    .dataframe tbody tr th:only-of-type {\n",
       "        vertical-align: middle;\n",
       "    }\n",
       "\n",
       "    .dataframe tbody tr th {\n",
       "        vertical-align: top;\n",
       "    }\n",
       "\n",
       "    .dataframe thead th {\n",
       "        text-align: right;\n",
       "    }\n",
       "</style>\n",
       "<table border=\"1\" class=\"dataframe\">\n",
       "  <thead>\n",
       "    <tr style=\"text-align: right;\">\n",
       "      <th></th>\n",
       "      <th>Vrai Y</th>\n",
       "      <th>Y predits</th>\n",
       "    </tr>\n",
       "  </thead>\n",
       "  <tbody>\n",
       "    <tr>\n",
       "      <th>310</th>\n",
       "      <td>1</td>\n",
       "      <td>1</td>\n",
       "    </tr>\n",
       "    <tr>\n",
       "      <th>35</th>\n",
       "      <td>1</td>\n",
       "      <td>1</td>\n",
       "    </tr>\n",
       "    <tr>\n",
       "      <th>1156</th>\n",
       "      <td>1</td>\n",
       "      <td>1</td>\n",
       "    </tr>\n",
       "    <tr>\n",
       "      <th>138</th>\n",
       "      <td>1</td>\n",
       "      <td>1</td>\n",
       "    </tr>\n",
       "    <tr>\n",
       "      <th>203</th>\n",
       "      <td>1</td>\n",
       "      <td>1</td>\n",
       "    </tr>\n",
       "    <tr>\n",
       "      <th>...</th>\n",
       "      <td>...</td>\n",
       "      <td>...</td>\n",
       "    </tr>\n",
       "    <tr>\n",
       "      <th>456</th>\n",
       "      <td>1</td>\n",
       "      <td>1</td>\n",
       "    </tr>\n",
       "    <tr>\n",
       "      <th>854</th>\n",
       "      <td>2</td>\n",
       "      <td>2</td>\n",
       "    </tr>\n",
       "    <tr>\n",
       "      <th>580</th>\n",
       "      <td>2</td>\n",
       "      <td>2</td>\n",
       "    </tr>\n",
       "    <tr>\n",
       "      <th>136</th>\n",
       "      <td>2</td>\n",
       "      <td>2</td>\n",
       "    </tr>\n",
       "    <tr>\n",
       "      <th>1162</th>\n",
       "      <td>1</td>\n",
       "      <td>1</td>\n",
       "    </tr>\n",
       "  </tbody>\n",
       "</table>\n",
       "<p>121 rows × 2 columns</p>\n",
       "</div>"
      ],
      "text/plain": [
       "      Vrai Y  Y predits\n",
       "310        1          1\n",
       "35         1          1\n",
       "1156       1          1\n",
       "138        1          1\n",
       "203        1          1\n",
       "...      ...        ...\n",
       "456        1          1\n",
       "854        2          2\n",
       "580        2          2\n",
       "136        2          2\n",
       "1162       1          1\n",
       "\n",
       "[121 rows x 2 columns]"
      ]
     },
     "execution_count": 50,
     "metadata": {},
     "output_type": "execute_result"
    }
   ],
   "source": [
    "# comparaison des valeurs prédites (y_predictRF) aux valeurs réelles (y_test),\n",
    "RFDF=pd.DataFrame({'Vrai Y':y_test,'Y predits':y_predictRF})\n",
    "RFDF"
   ]
  },
  {
   "cell_type": "code",
   "execution_count": 51,
   "id": "1960dcd5",
   "metadata": {},
   "outputs": [
    {
     "name": "stdout",
     "output_type": "stream",
     "text": [
      "0.3749999999999999\n"
     ]
    }
   ],
   "source": [
    "import numpy as np\n",
    "from sklearn import metrics\n",
    "mRF=metrics.r2_score(y_test,y_predictRF)\n",
    "print(mRF)"
   ]
  },
  {
   "cell_type": "code",
   "execution_count": null,
   "id": "fed8eb6e",
   "metadata": {},
   "outputs": [],
   "source": []
  },
  {
   "cell_type": "code",
   "execution_count": 53,
   "id": "70929132",
   "metadata": {},
   "outputs": [],
   "source": [
    "import pickle\n",
    "pickle.dump(modelRF,open(\"Adaptivity_Level.pkl\",\"wb\"))\n",
    "modelRF=pickle.load(open(\"Adaptivity_Level.pkl\",\"rb\"))\n",
    "# Enregistrement du model"
   ]
  },
  {
   "cell_type": "code",
   "execution_count": null,
   "id": "bee7fab7",
   "metadata": {},
   "outputs": [],
   "source": []
  }
 ],
 "metadata": {
  "kernelspec": {
   "display_name": "Python 3 (ipykernel)",
   "language": "python",
   "name": "python3"
  },
  "language_info": {
   "codemirror_mode": {
    "name": "ipython",
    "version": 3
   },
   "file_extension": ".py",
   "mimetype": "text/x-python",
   "name": "python",
   "nbconvert_exporter": "python",
   "pygments_lexer": "ipython3",
   "version": "3.9.12"
  }
 },
 "nbformat": 4,
 "nbformat_minor": 5
}
